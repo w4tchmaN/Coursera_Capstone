{
 "cells": [
  {
   "cell_type": "markdown",
   "metadata": {},
   "source": [
    "<center><h1> PEER GRADED ASSIGNMENT: Capstone Project - The Battle of Neighborhoods"
   ]
  },
  {
   "cell_type": "markdown",
   "metadata": {},
   "source": [
    "<u><h2>METHODOLOGY"
   ]
  },
  {
   "cell_type": "markdown",
   "metadata": {},
   "source": [
    "First, I need to get the list of neighborhoods in Toronto, Canada. This is\n",
    "possible by extracting the list of neighborhoods from Wikipedia:\n",
    "https://en.wikipedia.org/wiki/List_of_postal_codes_of_Canada:_M\n",
    "I did the web scraping by utilizing pandas HTML table scraping method as\n",
    "it is easier and more convenient to pull tabular data directly from a web\n",
    "page into the data frame.\n",
    "However, it is only a list of neighborhood names and postal codes. I need\n",
    "to get their coordinates to utilize Foursquare to pull the list of venues\n",
    "near these neighborhoods. To get the coordinates, I tried using Geocoder\n",
    "Package but it was not working so I used the CSV file provided by IBM\n",
    "team to match the coordinates of Toronto neighborhoods. After gathering\n",
    "these coordinates, I visualize the map of Toronto using Folium package to\n",
    "verify whether these are correct coordinates. Next, I use Foursquare API\n",
    "to pull the list of top 100 venues within 500 meters radius. I have created\n",
    "a Foursquare developer account in order to obtain account ID and API key\n",
    "to pull the data. From Foursquare, I am able to pull the names,\n",
    "categories, latitude, and longitude of the venues. With this data, I can\n",
    "also check how many unique categories that I can get from these venues.\n",
    "Then, I analyze each neighborhood by grouping the rows by neighborhood\n",
    "and taking the mean on the frequency of occurrence of each venue\n",
    "category. This is to prepare clustering to be done later."
   ]
  },
  {
   "cell_type": "code",
   "execution_count": null,
   "metadata": {},
   "outputs": [],
   "source": []
  }
 ],
 "metadata": {
  "kernelspec": {
   "display_name": "Python 3",
   "language": "python",
   "name": "python3"
  },
  "language_info": {
   "codemirror_mode": {
    "name": "ipython",
    "version": 3
   },
   "file_extension": ".py",
   "mimetype": "text/x-python",
   "name": "python",
   "nbconvert_exporter": "python",
   "pygments_lexer": "ipython3",
   "version": "3.7.3"
  }
 },
 "nbformat": 4,
 "nbformat_minor": 2
}
