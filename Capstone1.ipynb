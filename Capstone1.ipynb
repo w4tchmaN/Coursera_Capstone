{
 "cells": [
  {
   "cell_type": "markdown",
   "metadata": {},
   "source": [
    "<center><h1> PEER GRADED ASSIGNMENT: Capstone Project - The Battle of Neighborhoods"
   ]
  },
  {
   "cell_type": "markdown",
   "metadata": {},
   "source": [
    "<u><h2>INTRODUCTION"
   ]
  },
  {
   "cell_type": "markdown",
   "metadata": {},
   "source": [
    "In this project, I am creating a hypothetical scenario for a concept that\n",
    "there may not be enough Indian Restaurants in Toronto Area. Therefore it\n",
    "might be a great opportunity for an entrepreneur who is based in Canada.\n",
    "As the Indian food is popular among Asian community, so this\n",
    "entrepreneur might think of opening its business in areas where asian\n",
    "community resides.With the purpose in mind, finding the location to open\n",
    "such a restaurant is one of the most important decisions for this\n",
    "entrepreneur and I am designing this project to help him find the most\n",
    "suitable location.\n"
   ]
  },
  {
   "cell_type": "markdown",
   "metadata": {},
   "source": [
    "<u><h2>BUSINESS PROBLEM\n"
   ]
  },
  {
   "cell_type": "markdown",
   "metadata": {},
   "source": [
    "The objective of this capstone project is to find the most suitable\n",
    "location for the entrepreneur to open a new Indian Restaurant in\n",
    "Toronto,Canada. By using data science methods and tools along with\n",
    "machine learning algorithms such as clustering, this project aims to\n",
    "provide solutions to answer the business question : In Toronto, if an\n",
    "entrepreneur wants to open an Indian Restaurant, where should they\n",
    "consider opening it."
   ]
  },
  {
   "cell_type": "markdown",
   "metadata": {},
   "source": [
    "<u><h2>TARGET AUDIENCE"
   ]
  },
  {
   "cell_type": "markdown",
   "metadata": {},
   "source": [
    "Entrepreneurs who want to find the location to open an Indian restaurant."
   ]
  },
  {
   "cell_type": "markdown",
   "metadata": {},
   "source": [
    "<u><h2>DATA"
   ]
  },
  {
   "cell_type": "markdown",
   "metadata": {},
   "source": [
    "To solve this problem, we will need below data:\n",
    "<ul>\n",
    "<li> List of neighborhoods in Toronto, Canada\n",
    "<li> Latitude and Longitude of these neighborhoods\n",
    "<li> Venue data related to Indian restaurants. This will help us find the\n",
    "neighborhoods that are more suitable to open an Indian Restaurant."
   ]
  },
  {
   "cell_type": "markdown",
   "metadata": {},
   "source": [
    "<u><h2>EXTRACTING THE DATA"
   ]
  },
  {
   "cell_type": "markdown",
   "metadata": {},
   "source": [
    "<ul>\n",
    "<li>Scrapping of Toronto neighborhoods via Wikipedia\n",
    "<li> Getting Latitude and Longitude data of these neighborhoods via\n",
    "Geocoder package\n",
    "<li> Using Foursquare API to get venue data related to these\n",
    "neighborhoods"
   ]
  },
  {
   "cell_type": "code",
   "execution_count": null,
   "metadata": {},
   "outputs": [],
   "source": []
  }
 ],
 "metadata": {
  "kernelspec": {
   "display_name": "Python 3",
   "language": "python",
   "name": "python3"
  },
  "language_info": {
   "codemirror_mode": {
    "name": "ipython",
    "version": 3
   },
   "file_extension": ".py",
   "mimetype": "text/x-python",
   "name": "python",
   "nbconvert_exporter": "python",
   "pygments_lexer": "ipython3",
   "version": "3.7.3"
  }
 },
 "nbformat": 4,
 "nbformat_minor": 2
}
